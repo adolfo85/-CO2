{
 "cells": [
  {
   "cell_type": "markdown",
   "metadata": {},
   "source": [
    "## Análisis de emanación de CO2 a nivel mundial. "
   ]
  },
  {
   "cell_type": "code",
   "execution_count": 9,
   "metadata": {},
   "outputs": [
    {
     "name": "stdout",
     "output_type": "stream",
     "text": [
      "Requirement already satisfied: pyjanitor in /home/adolfo/anaconda3/lib/python3.9/site-packages (0.26.0)\n",
      "Requirement already satisfied: natsort in /home/adolfo/anaconda3/lib/python3.9/site-packages (from pyjanitor) (8.4.0)\n",
      "Requirement already satisfied: pandas-flavor in /home/adolfo/anaconda3/lib/python3.9/site-packages (from pyjanitor) (0.6.0)\n",
      "Requirement already satisfied: multipledispatch in /home/adolfo/anaconda3/lib/python3.9/site-packages (from pyjanitor) (0.6.0)\n",
      "Requirement already satisfied: scipy in /home/adolfo/anaconda3/lib/python3.9/site-packages (from pyjanitor) (1.9.1)\n",
      "Requirement already satisfied: six in /home/adolfo/anaconda3/lib/python3.9/site-packages (from multipledispatch->pyjanitor) (1.16.0)\n",
      "Requirement already satisfied: pandas>=0.23 in /home/adolfo/anaconda3/lib/python3.9/site-packages (from pandas-flavor->pyjanitor) (1.4.4)\n",
      "Requirement already satisfied: xarray in /home/adolfo/anaconda3/lib/python3.9/site-packages (from pandas-flavor->pyjanitor) (0.20.1)\n",
      "Requirement already satisfied: numpy<1.25.0,>=1.18.5 in /home/adolfo/anaconda3/lib/python3.9/site-packages (from scipy->pyjanitor) (1.21.5)\n",
      "Requirement already satisfied: python-dateutil>=2.8.1 in /home/adolfo/anaconda3/lib/python3.9/site-packages (from pandas>=0.23->pandas-flavor->pyjanitor) (2.8.2)\n",
      "Requirement already satisfied: pytz>=2020.1 in /home/adolfo/anaconda3/lib/python3.9/site-packages (from pandas>=0.23->pandas-flavor->pyjanitor) (2022.1)\n",
      "Note: you may need to restart the kernel to use updated packages.\n"
     ]
    }
   ],
   "source": [
    "pip install pyjanitor "
   ]
  },
  {
   "cell_type": "code",
   "execution_count": 10,
   "metadata": {},
   "outputs": [
    {
     "name": "stdout",
     "output_type": "stream",
     "text": [
      "Requirement already satisfied: missingno in /home/adolfo/anaconda3/lib/python3.9/site-packages (0.5.2)\n",
      "Requirement already satisfied: numpy in /home/adolfo/anaconda3/lib/python3.9/site-packages (from missingno) (1.21.5)\n",
      "Requirement already satisfied: matplotlib in /home/adolfo/anaconda3/lib/python3.9/site-packages (from missingno) (3.5.2)\n",
      "Requirement already satisfied: scipy in /home/adolfo/anaconda3/lib/python3.9/site-packages (from missingno) (1.9.1)\n",
      "Requirement already satisfied: seaborn in /home/adolfo/anaconda3/lib/python3.9/site-packages (from missingno) (0.11.2)\n",
      "Requirement already satisfied: cycler>=0.10 in /home/adolfo/anaconda3/lib/python3.9/site-packages (from matplotlib->missingno) (0.11.0)\n",
      "Requirement already satisfied: fonttools>=4.22.0 in /home/adolfo/anaconda3/lib/python3.9/site-packages (from matplotlib->missingno) (4.25.0)\n",
      "Requirement already satisfied: kiwisolver>=1.0.1 in /home/adolfo/anaconda3/lib/python3.9/site-packages (from matplotlib->missingno) (1.4.2)\n",
      "Requirement already satisfied: packaging>=20.0 in /home/adolfo/anaconda3/lib/python3.9/site-packages (from matplotlib->missingno) (21.3)\n",
      "Requirement already satisfied: pillow>=6.2.0 in /home/adolfo/anaconda3/lib/python3.9/site-packages (from matplotlib->missingno) (9.2.0)\n",
      "Requirement already satisfied: pyparsing>=2.2.1 in /home/adolfo/anaconda3/lib/python3.9/site-packages (from matplotlib->missingno) (3.0.9)\n",
      "Requirement already satisfied: python-dateutil>=2.7 in /home/adolfo/anaconda3/lib/python3.9/site-packages (from matplotlib->missingno) (2.8.2)\n",
      "Requirement already satisfied: pandas>=0.23 in /home/adolfo/anaconda3/lib/python3.9/site-packages (from seaborn->missingno) (1.4.4)\n",
      "Requirement already satisfied: pytz>=2020.1 in /home/adolfo/anaconda3/lib/python3.9/site-packages (from pandas>=0.23->seaborn->missingno) (2022.1)\n",
      "Requirement already satisfied: six>=1.5 in /home/adolfo/anaconda3/lib/python3.9/site-packages (from python-dateutil>=2.7->matplotlib->missingno) (1.16.0)\n",
      "Note: you may need to restart the kernel to use updated packages.\n"
     ]
    }
   ],
   "source": [
    "pip install missingno"
   ]
  },
  {
   "cell_type": "code",
   "execution_count": 11,
   "metadata": {},
   "outputs": [],
   "source": [
    "import matplotlib.pyplot as plt\n",
    "import numpy as np\n",
    "import pandas as pd\n",
    "import scipy.stats\n",
    "import seaborn as sns\n",
    "import sklearn.metrics\n",
    "import janitor\n",
    "import missingno"
   ]
  },
  {
   "cell_type": "code",
   "execution_count": 12,
   "metadata": {},
   "outputs": [],
   "source": [
    "df = pd.read_csv('../data/raw/production_based_co2_emissions.csv')"
   ]
  },
  {
   "cell_type": "code",
   "execution_count": 13,
   "metadata": {},
   "outputs": [
    {
     "data": {
      "text/plain": [
       "ISO3                                      object\n",
       "Country                                   object\n",
       "Continent                                 object\n",
       "Hemisphere                                object\n",
       "Metric tons of CO2e per capita (1990)    float64\n",
       "Metric tons of CO2e per capita (1995)    float64\n",
       "Metric tons of CO2e per capita (2000)    float64\n",
       "Metric tons of CO2e per capita (2005)    float64\n",
       "Metric tons of CO2e per capita (2010)    float64\n",
       "Metric tons of CO2e per capita (2013)    float64\n",
       "Metric tons of CO2e per capita (2018)    float64\n",
       "dtype: object"
      ]
     },
     "execution_count": 13,
     "metadata": {},
     "output_type": "execute_result"
    }
   ],
   "source": [
    "df.dtypes"
   ]
  },
  {
   "cell_type": "markdown",
   "metadata": {},
   "source": [
    "El df consta de 181 filas y 11 columnas. "
   ]
  },
  {
   "cell_type": "code",
   "execution_count": 14,
   "metadata": {},
   "outputs": [
    {
     "data": {
      "text/plain": [
       "(181, 11)"
      ]
     },
     "execution_count": 14,
     "metadata": {},
     "output_type": "execute_result"
    }
   ],
   "source": [
    "df.shape"
   ]
  },
  {
   "cell_type": "code",
   "execution_count": 15,
   "metadata": {},
   "outputs": [
    {
     "data": {
      "text/html": [
       "<div>\n",
       "<style scoped>\n",
       "    .dataframe tbody tr th:only-of-type {\n",
       "        vertical-align: middle;\n",
       "    }\n",
       "\n",
       "    .dataframe tbody tr th {\n",
       "        vertical-align: top;\n",
       "    }\n",
       "\n",
       "    .dataframe thead th {\n",
       "        text-align: right;\n",
       "    }\n",
       "</style>\n",
       "<table border=\"1\" class=\"dataframe\">\n",
       "  <thead>\n",
       "    <tr style=\"text-align: right;\">\n",
       "      <th></th>\n",
       "      <th>ISO3</th>\n",
       "      <th>Country</th>\n",
       "      <th>Continent</th>\n",
       "      <th>Hemisphere</th>\n",
       "      <th>Metric tons of CO2e per capita (1990)</th>\n",
       "      <th>Metric tons of CO2e per capita (1995)</th>\n",
       "      <th>Metric tons of CO2e per capita (2000)</th>\n",
       "      <th>Metric tons of CO2e per capita (2005)</th>\n",
       "      <th>Metric tons of CO2e per capita (2010)</th>\n",
       "      <th>Metric tons of CO2e per capita (2013)</th>\n",
       "      <th>Metric tons of CO2e per capita (2018)</th>\n",
       "    </tr>\n",
       "  </thead>\n",
       "  <tbody>\n",
       "    <tr>\n",
       "      <th>0</th>\n",
       "      <td>AFG</td>\n",
       "      <td>Afghanistan</td>\n",
       "      <td>Asia</td>\n",
       "      <td>Northern Hemisphere</td>\n",
       "      <td>1.24</td>\n",
       "      <td>0.84</td>\n",
       "      <td>0.82</td>\n",
       "      <td>0.76</td>\n",
       "      <td>1.06</td>\n",
       "      <td>1.40</td>\n",
       "      <td>2.66</td>\n",
       "    </tr>\n",
       "    <tr>\n",
       "      <th>1</th>\n",
       "      <td>ALB</td>\n",
       "      <td>Albania</td>\n",
       "      <td>Europe</td>\n",
       "      <td>Northern Hemisphere</td>\n",
       "      <td>3.56</td>\n",
       "      <td>2.15</td>\n",
       "      <td>2.36</td>\n",
       "      <td>2.68</td>\n",
       "      <td>2.83</td>\n",
       "      <td>2.85</td>\n",
       "      <td>3.52</td>\n",
       "    </tr>\n",
       "    <tr>\n",
       "      <th>2</th>\n",
       "      <td>DZA</td>\n",
       "      <td>Algeria</td>\n",
       "      <td>Africa</td>\n",
       "      <td>Northern Hemisphere</td>\n",
       "      <td>3.50</td>\n",
       "      <td>3.42</td>\n",
       "      <td>3.75</td>\n",
       "      <td>4.04</td>\n",
       "      <td>4.58</td>\n",
       "      <td>4.88</td>\n",
       "      <td>5.18</td>\n",
       "    </tr>\n",
       "    <tr>\n",
       "      <th>3</th>\n",
       "      <td>AGO</td>\n",
       "      <td>Angola</td>\n",
       "      <td>Africa</td>\n",
       "      <td>Southern Hemisphere</td>\n",
       "      <td>4.29</td>\n",
       "      <td>4.43</td>\n",
       "      <td>4.20</td>\n",
       "      <td>5.06</td>\n",
       "      <td>6.32</td>\n",
       "      <td>5.99</td>\n",
       "      <td>2.59</td>\n",
       "    </tr>\n",
       "    <tr>\n",
       "      <th>4</th>\n",
       "      <td>ATG</td>\n",
       "      <td>Antigua and Barbuda</td>\n",
       "      <td>America</td>\n",
       "      <td>Northern Hemisphere</td>\n",
       "      <td>6.31</td>\n",
       "      <td>6.53</td>\n",
       "      <td>7.08</td>\n",
       "      <td>8.77</td>\n",
       "      <td>10.69</td>\n",
       "      <td>11.22</td>\n",
       "      <td>12.59</td>\n",
       "    </tr>\n",
       "  </tbody>\n",
       "</table>\n",
       "</div>"
      ],
      "text/plain": [
       "  ISO3              Country Continent           Hemisphere  \\\n",
       "0  AFG          Afghanistan      Asia  Northern Hemisphere   \n",
       "1  ALB              Albania    Europe  Northern Hemisphere   \n",
       "2  DZA              Algeria    Africa  Northern Hemisphere   \n",
       "3  AGO               Angola    Africa  Southern Hemisphere   \n",
       "4  ATG  Antigua and Barbuda   America  Northern Hemisphere   \n",
       "\n",
       "   Metric tons of CO2e per capita (1990)  \\\n",
       "0                                   1.24   \n",
       "1                                   3.56   \n",
       "2                                   3.50   \n",
       "3                                   4.29   \n",
       "4                                   6.31   \n",
       "\n",
       "   Metric tons of CO2e per capita (1995)  \\\n",
       "0                                   0.84   \n",
       "1                                   2.15   \n",
       "2                                   3.42   \n",
       "3                                   4.43   \n",
       "4                                   6.53   \n",
       "\n",
       "   Metric tons of CO2e per capita (2000)  \\\n",
       "0                                   0.82   \n",
       "1                                   2.36   \n",
       "2                                   3.75   \n",
       "3                                   4.20   \n",
       "4                                   7.08   \n",
       "\n",
       "   Metric tons of CO2e per capita (2005)  \\\n",
       "0                                   0.76   \n",
       "1                                   2.68   \n",
       "2                                   4.04   \n",
       "3                                   5.06   \n",
       "4                                   8.77   \n",
       "\n",
       "   Metric tons of CO2e per capita (2010)  \\\n",
       "0                                   1.06   \n",
       "1                                   2.83   \n",
       "2                                   4.58   \n",
       "3                                   6.32   \n",
       "4                                  10.69   \n",
       "\n",
       "   Metric tons of CO2e per capita (2013)  \\\n",
       "0                                   1.40   \n",
       "1                                   2.85   \n",
       "2                                   4.88   \n",
       "3                                   5.99   \n",
       "4                                  11.22   \n",
       "\n",
       "   Metric tons of CO2e per capita (2018)  \n",
       "0                                   2.66  \n",
       "1                                   3.52  \n",
       "2                                   5.18  \n",
       "3                                   2.59  \n",
       "4                                  12.59  "
      ]
     },
     "execution_count": 15,
     "metadata": {},
     "output_type": "execute_result"
    }
   ],
   "source": [
    "df.head(5)"
   ]
  },
  {
   "cell_type": "markdown",
   "metadata": {},
   "source": [
    "análisis de nulos: El año 2010 es la única columna que no tiene valores nulos. "
   ]
  },
  {
   "cell_type": "code",
   "execution_count": 16,
   "metadata": {},
   "outputs": [
    {
     "data": {
      "text/plain": [
       "ISO3                                     False\n",
       "Country                                  False\n",
       "Continent                                False\n",
       "Hemisphere                               False\n",
       "Metric tons of CO2e per capita (1990)     True\n",
       "Metric tons of CO2e per capita (1995)     True\n",
       "Metric tons of CO2e per capita (2000)     True\n",
       "Metric tons of CO2e per capita (2005)     True\n",
       "Metric tons of CO2e per capita (2010)    False\n",
       "Metric tons of CO2e per capita (2013)     True\n",
       "Metric tons of CO2e per capita (2018)     True\n",
       "dtype: bool"
      ]
     },
     "execution_count": 16,
     "metadata": {},
     "output_type": "execute_result"
    }
   ],
   "source": [
    "(\n",
    "    df\n",
    "    .isnull()\n",
    "    .any()\n",
    ")"
   ]
  },
  {
   "cell_type": "markdown",
   "metadata": {},
   "source": [
    "Sumatoria de valores nulos por variable: En los 90 tenemos la mayor cantidad de valores nulos. "
   ]
  },
  {
   "cell_type": "code",
   "execution_count": 17,
   "metadata": {},
   "outputs": [
    {
     "data": {
      "text/plain": [
       "ISO3                                      0\n",
       "Country                                   0\n",
       "Continent                                 0\n",
       "Hemisphere                                0\n",
       "Metric tons of CO2e per capita (1990)    27\n",
       "Metric tons of CO2e per capita (1995)     4\n",
       "Metric tons of CO2e per capita (2000)     2\n",
       "Metric tons of CO2e per capita (2005)     2\n",
       "Metric tons of CO2e per capita (2010)     0\n",
       "Metric tons of CO2e per capita (2013)     1\n",
       "Metric tons of CO2e per capita (2018)     1\n",
       "dtype: int64"
      ]
     },
     "execution_count": 17,
     "metadata": {},
     "output_type": "execute_result"
    }
   ],
   "source": [
    "(\n",
    "    df\n",
    "    .isnull()\n",
    "    .sum()\n",
    "    \n",
    ")"
   ]
  }
 ],
 "metadata": {
  "kernelspec": {
   "display_name": "base",
   "language": "python",
   "name": "python3"
  },
  "language_info": {
   "codemirror_mode": {
    "name": "ipython",
    "version": 3
   },
   "file_extension": ".py",
   "mimetype": "text/x-python",
   "name": "python",
   "nbconvert_exporter": "python",
   "pygments_lexer": "ipython3",
   "version": "3.9.13"
  }
 },
 "nbformat": 4,
 "nbformat_minor": 2
}
