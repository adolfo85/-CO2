{
 "cells": [
  {
   "cell_type": "markdown",
   "metadata": {},
   "source": [
    "## Análisis de emanación de CO2 a nivel mundial. "
   ]
  },
  {
   "cell_type": "code",
   "execution_count": 1,
   "metadata": {},
   "outputs": [],
   "source": [
    "import matplotlib.pyplot as plt\n",
    "import numpy as np\n",
    "import pandas as pd\n",
    "import scipy.stats\n",
    "import seaborn as sns\n",
    "import sklearn.metrics"
   ]
  },
  {
   "cell_type": "code",
   "execution_count": 2,
   "metadata": {},
   "outputs": [],
   "source": [
    "df = pd.read_csv('../data/raw/production_based_co2_emissions.csv')"
   ]
  },
  {
   "cell_type": "code",
   "execution_count": 3,
   "metadata": {},
   "outputs": [
    {
     "data": {
      "text/plain": [
       "ISO3                                      object\n",
       "Country                                   object\n",
       "Continent                                 object\n",
       "Hemisphere                                object\n",
       "Metric tons of CO2e per capita (1990)    float64\n",
       "Metric tons of CO2e per capita (1995)    float64\n",
       "Metric tons of CO2e per capita (2000)    float64\n",
       "Metric tons of CO2e per capita (2005)    float64\n",
       "Metric tons of CO2e per capita (2010)    float64\n",
       "Metric tons of CO2e per capita (2013)    float64\n",
       "Metric tons of CO2e per capita (2018)    float64\n",
       "dtype: object"
      ]
     },
     "execution_count": 3,
     "metadata": {},
     "output_type": "execute_result"
    }
   ],
   "source": [
    "df.dtypes"
   ]
  },
  {
   "cell_type": "markdown",
   "metadata": {},
   "source": [
    "El df consta de 181 columnas y 11 filas. "
   ]
  },
  {
   "cell_type": "code",
   "execution_count": 4,
   "metadata": {},
   "outputs": [
    {
     "data": {
      "text/plain": [
       "(181, 11)"
      ]
     },
     "execution_count": 4,
     "metadata": {},
     "output_type": "execute_result"
    }
   ],
   "source": [
    "df.shape"
   ]
  },
  {
   "cell_type": "markdown",
   "metadata": {},
   "source": [
    "análisis de nulos: El año 2010 es la única columna que no tiene valores nulos. "
   ]
  },
  {
   "cell_type": "code",
   "execution_count": 5,
   "metadata": {},
   "outputs": [
    {
     "data": {
      "text/plain": [
       "ISO3                                     False\n",
       "Country                                  False\n",
       "Continent                                False\n",
       "Hemisphere                               False\n",
       "Metric tons of CO2e per capita (1990)     True\n",
       "Metric tons of CO2e per capita (1995)     True\n",
       "Metric tons of CO2e per capita (2000)     True\n",
       "Metric tons of CO2e per capita (2005)     True\n",
       "Metric tons of CO2e per capita (2010)    False\n",
       "Metric tons of CO2e per capita (2013)     True\n",
       "Metric tons of CO2e per capita (2018)     True\n",
       "dtype: bool"
      ]
     },
     "execution_count": 5,
     "metadata": {},
     "output_type": "execute_result"
    }
   ],
   "source": [
    "(\n",
    "    df\n",
    "    .isnull()\n",
    "    .any()\n",
    ")"
   ]
  },
  {
   "cell_type": "markdown",
   "metadata": {},
   "source": [
    "Sumatoria de valores nulos por variable: En los 90 tenemos la mayor cantidad de valores nulos. "
   ]
  },
  {
   "cell_type": "code",
   "execution_count": 7,
   "metadata": {},
   "outputs": [
    {
     "data": {
      "text/plain": [
       "ISO3                                      0\n",
       "Country                                   0\n",
       "Continent                                 0\n",
       "Hemisphere                                0\n",
       "Metric tons of CO2e per capita (1990)    27\n",
       "Metric tons of CO2e per capita (1995)     4\n",
       "Metric tons of CO2e per capita (2000)     2\n",
       "Metric tons of CO2e per capita (2005)     2\n",
       "Metric tons of CO2e per capita (2010)     0\n",
       "Metric tons of CO2e per capita (2013)     1\n",
       "Metric tons of CO2e per capita (2018)     1\n",
       "dtype: int64"
      ]
     },
     "execution_count": 7,
     "metadata": {},
     "output_type": "execute_result"
    }
   ],
   "source": [
    "(\n",
    "    df\n",
    "    .isnull()\n",
    "    .sum()\n",
    "    \n",
    ")"
   ]
  }
 ],
 "metadata": {
  "kernelspec": {
   "display_name": "base",
   "language": "python",
   "name": "python3"
  },
  "language_info": {
   "codemirror_mode": {
    "name": "ipython",
    "version": 3
   },
   "file_extension": ".py",
   "mimetype": "text/x-python",
   "name": "python",
   "nbconvert_exporter": "python",
   "pygments_lexer": "ipython3",
   "version": "3.9.13"
  }
 },
 "nbformat": 4,
 "nbformat_minor": 2
}
